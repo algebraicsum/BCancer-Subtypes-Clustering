{
 "cells": [
  {
   "cell_type": "code",
   "execution_count": 1,
   "id": "85c5c36d",
   "metadata": {},
   "outputs": [],
   "source": [
    "import tensorflow as tf\n",
    "from tensorflow.keras.applications.vgg16 import VGG16\n",
    "\n",
    "model = VGG16()"
   ]
  },
  {
   "cell_type": "code",
   "execution_count": 2,
   "id": "88bf6407",
   "metadata": {},
   "outputs": [],
   "source": [
    "from tensorflow.keras.preprocessing import image\n",
    "from tensorflow.keras.applications.vgg16 import preprocess_input\n",
    "\n",
    "img_path = 'E:/APK for B Cancer/test/benign/Yolo-ROI-benign/A_1384_1.LEFT_CC_crop_0.jpg'\n",
    "img = image.load_img(img_path, target_size=(224, 224))\n",
    "x = image.img_to_array(img)\n",
    "x = preprocess_input(x)\n"
   ]
  },
  {
   "cell_type": "code",
   "execution_count": 4,
   "id": "4e58a347",
   "metadata": {},
   "outputs": [],
   "source": [
    "import numpy as np\n",
    "\n",
    "features = model.predict(np.array([x]))"
   ]
  },
  {
   "cell_type": "code",
   "execution_count": 6,
   "id": "f6ffbb92",
   "metadata": {},
   "outputs": [
    {
     "data": {
      "text/plain": [
       "(1, 1000)"
      ]
     },
     "execution_count": 6,
     "metadata": {},
     "output_type": "execute_result"
    }
   ],
   "source": [
    "features.shape"
   ]
  },
  {
   "cell_type": "code",
   "execution_count": 7,
   "id": "092e900e",
   "metadata": {},
   "outputs": [],
   "source": [
    "img_path_1 = 'E:/APK for B Cancer/test/benign/Yolo-ROI-benign/A_1384_1.LEFT_CC_crop_0.jpg'\n",
    "img_1 = image.load_img(img_path_1, target_size=(224, 224))\n",
    "x_1 = image.img_to_array(img_1)\n",
    "x_1 = preprocess_input(x_1)\n",
    "features_1 = model.predict(np.array([x_1]))\n",
    "\n",
    "img_path_2 = 'E:/APK for B Cancer/test/benign/Yolo-ROI-benign/A_1384_1.RIGHT_CC_crop_0.jpg'\n",
    "img_2 = image.load_img(img_path_2, target_size=(224, 224))\n",
    "x_2 = image.img_to_array(img_2)\n",
    "x_2 = preprocess_input(x_2)\n",
    "features_2 = model.predict(np.array([x_2]))\n",
    "\n",
    "similarity = np.dot(features_1, features_2.T)"
   ]
  },
  {
   "cell_type": "code",
   "execution_count": 8,
   "id": "1dd75339",
   "metadata": {},
   "outputs": [
    {
     "data": {
      "text/plain": [
       "array([[0.02455459]], dtype=float32)"
      ]
     },
     "execution_count": 8,
     "metadata": {},
     "output_type": "execute_result"
    }
   ],
   "source": [
    "similarity"
   ]
  },
  {
   "cell_type": "code",
   "execution_count": null,
   "id": "eaf8bc1c",
   "metadata": {},
   "outputs": [],
   "source": []
  },
  {
   "cell_type": "code",
   "execution_count": null,
   "id": "80d9ac10",
   "metadata": {},
   "outputs": [],
   "source": []
  },
  {
   "cell_type": "code",
   "execution_count": null,
   "id": "7a242cb3",
   "metadata": {},
   "outputs": [],
   "source": []
  }
 ],
 "metadata": {
  "kernelspec": {
   "display_name": "Python 3",
   "language": "python",
   "name": "python3"
  },
  "language_info": {
   "codemirror_mode": {
    "name": "ipython",
    "version": 3
   },
   "file_extension": ".py",
   "mimetype": "text/x-python",
   "name": "python",
   "nbconvert_exporter": "python",
   "pygments_lexer": "ipython3",
   "version": "3.6.13"
  }
 },
 "nbformat": 4,
 "nbformat_minor": 5
}
