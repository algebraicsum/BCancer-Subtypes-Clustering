{
 "cells": [
  {
   "cell_type": "code",
   "execution_count": 16,
   "id": "993babca",
   "metadata": {},
   "outputs": [],
   "source": [
    "import tensorflow as tf\n",
    "from tensorflow.keras.preprocessing.image import ImageDataGenerator"
   ]
  },
  {
   "cell_type": "code",
   "execution_count": 17,
   "id": "da2e12f6",
   "metadata": {},
   "outputs": [
    {
     "data": {
      "text/plain": [
       "['cancer', 'normal']"
      ]
     },
     "execution_count": 17,
     "metadata": {},
     "output_type": "execute_result"
    }
   ],
   "source": [
    "import os\n",
    "\n",
    "data_dir =r'D:\\Ambis Kuliah\\Semester 7\\NAIST Internship\\Breast Cancer Project\\Program\\Final Data for Model\\train'\n",
    "os.listdir(data_dir)"
   ]
  },
  {
   "cell_type": "code",
   "execution_count": 18,
   "id": "1a9d55c2",
   "metadata": {},
   "outputs": [],
   "source": [
    "train_dt = ImageDataGenerator(\n",
    "    rotation_range = 20,\n",
    "    horizontal_flip = True,\n",
    "    shear_range = 0.2,\n",
    "    validation_split = 0.4\n",
    ")"
   ]
  },
  {
   "cell_type": "code",
   "execution_count": 23,
   "id": "1b5b045c",
   "metadata": {},
   "outputs": [
    {
     "name": "stdout",
     "output_type": "stream",
     "text": [
      "Found 2857 images belonging to 2 classes.\n",
      "Found 1903 images belonging to 2 classes.\n"
     ]
    }
   ],
   "source": [
    "#Augmentasi gambar\n",
    "train_dt_generator = train_dt.flow_from_directory(\n",
    "    data_dir,\n",
    "    target_size=(224,224),\n",
    "    shuffle=True,\n",
    "    subset= 'training'\n",
    ")\n",
    "\n",
    "validation_dt_generator= train_dt.flow_from_directory(\n",
    "    data_dir,\n",
    "    target_size=(224,224),\n",
    "    subset= 'validation'\n",
    ")"
   ]
  },
  {
   "cell_type": "code",
   "execution_count": 24,
   "id": "8b7f8c71",
   "metadata": {},
   "outputs": [
    {
     "name": "stdout",
     "output_type": "stream",
     "text": [
      "Model: \"sequential_4\"\n",
      "_________________________________________________________________\n",
      " Layer (type)                Output Shape              Param #   \n",
      "=================================================================\n",
      " conv2d_19 (Conv2D)          (None, 222, 222, 16)      448       \n",
      "                                                                 \n",
      " conv2d_20 (Conv2D)          (None, 220, 220, 16)      2320      \n",
      "                                                                 \n",
      " max_pooling2d_13 (MaxPooli  (None, 110, 110, 16)      0         \n",
      " ng2D)                                                           \n",
      "                                                                 \n",
      " conv2d_21 (Conv2D)          (None, 108, 108, 64)      9280      \n",
      "                                                                 \n",
      " conv2d_22 (Conv2D)          (None, 106, 106, 64)      36928     \n",
      "                                                                 \n",
      " max_pooling2d_14 (MaxPooli  (None, 53, 53, 64)        0         \n",
      " ng2D)                                                           \n",
      "                                                                 \n",
      " conv2d_23 (Conv2D)          (None, 51, 51, 128)       73856     \n",
      "                                                                 \n",
      " conv2d_24 (Conv2D)          (None, 49, 49, 128)       147584    \n",
      "                                                                 \n",
      " conv2d_25 (Conv2D)          (None, 47, 47, 128)       147584    \n",
      "                                                                 \n",
      " max_pooling2d_15 (MaxPooli  (None, 23, 23, 128)       0         \n",
      " ng2D)                                                           \n",
      "                                                                 \n",
      " conv2d_26 (Conv2D)          (None, 21, 21, 256)       295168    \n",
      "                                                                 \n",
      " conv2d_27 (Conv2D)          (None, 19, 19, 256)       590080    \n",
      "                                                                 \n",
      " conv2d_28 (Conv2D)          (None, 17, 17, 256)       590080    \n",
      "                                                                 \n",
      " max_pooling2d_16 (MaxPooli  (None, 8, 8, 256)         0         \n",
      " ng2D)                                                           \n",
      "                                                                 \n",
      " flatten_4 (Flatten)         (None, 16384)             0         \n",
      "                                                                 \n",
      " dense_9 (Dense)             (None, 2048)              33556480  \n",
      "                                                                 \n",
      " dense_10 (Dense)            (None, 2048)              4196352   \n",
      "                                                                 \n",
      " dense_11 (Dense)            (None, 2)                 4098      \n",
      "                                                                 \n",
      "=================================================================\n",
      "Total params: 39650258 (151.25 MB)\n",
      "Trainable params: 39650258 (151.25 MB)\n",
      "Non-trainable params: 0 (0.00 Byte)\n",
      "_________________________________________________________________\n"
     ]
    }
   ],
   "source": [
    "#Pemodelan Sequenstial\n",
    "models = tf.keras.models.Sequential([\n",
    "    \n",
    "    #convolutional layers\n",
    "    tf.keras.layers.Conv2D(16, (3, 3), activation='relu', input_shape=(224, 224, 3)),\n",
    "    tf.keras.layers.Conv2D(16, (3, 3), activation='relu'),\n",
    "    tf.keras.layers.MaxPooling2D(pool_size=(2, 2)),\n",
    "    \n",
    "    tf.keras.layers.Conv2D(64, (3, 3), activation='relu'),\n",
    "    tf.keras.layers.Conv2D(64, (3, 3), activation='relu'),\n",
    "    tf.keras.layers.MaxPooling2D(pool_size=(2, 2)),\n",
    "    \n",
    "    tf.keras.layers.Conv2D(128, (3, 3), activation='relu'),\n",
    "    tf.keras.layers.Conv2D(128, (3, 3), activation='relu'),\n",
    "    tf.keras.layers.Conv2D(128, (3, 3), activation='relu'),\n",
    "    tf.keras.layers.MaxPooling2D(pool_size=(2, 2)),\n",
    "    \n",
    "    tf.keras.layers.Conv2D(256, (3, 3), activation='relu'),\n",
    "    tf.keras.layers.Conv2D(256, (3, 3), activation='relu'),\n",
    "    tf.keras.layers.Conv2D(256, (3, 3), activation='relu'),\n",
    "    tf.keras.layers.MaxPooling2D(pool_size=(2, 2)),\n",
    "    \n",
    "    #Fully Connected Layer\n",
    "    tf.keras.layers.Flatten(),\n",
    "    tf.keras.layers.Dense(2048, activation='relu'),\n",
    "    tf.keras.layers.Dense(2048, activation='relu'),\n",
    "    tf.keras.layers.Dense(2, activation='softmax')\n",
    "\n",
    "])\n",
    "\n",
    "models.summary() "
   ]
  },
  {
   "cell_type": "code",
   "execution_count": 25,
   "id": "14000a73",
   "metadata": {},
   "outputs": [],
   "source": [
    "#Meng-Compile model menggunakan loss function\n",
    "models.compile(loss='categorical_crossentropy',\n",
    "              optimizer=tf.optimizers.Adam(),\n",
    "              metrics=['accuracy'])"
   ]
  },
  {
   "cell_type": "code",
   "execution_count": 27,
   "id": "d07ddb9e",
   "metadata": {},
   "outputs": [
    {
     "name": "stdout",
     "output_type": "stream",
     "text": [
      "Epoch 1/20\n",
      "16/16 [==============================] - 172s 11s/step - loss: 0.6042 - accuracy: 0.6719 - val_loss: 3.5764 - val_accuracy: 0.5744\n",
      "Epoch 2/20\n",
      "16/16 [==============================] - 174s 11s/step - loss: 0.6946 - accuracy: 0.7051 - val_loss: 0.6446 - val_accuracy: 0.6390\n",
      "Epoch 3/20\n",
      "16/16 [==============================] - 177s 11s/step - loss: 0.4865 - accuracy: 0.7539 - val_loss: 0.7746 - val_accuracy: 0.5581\n",
      "Epoch 4/20\n",
      "16/16 [==============================] - 178s 12s/step - loss: 0.5052 - accuracy: 0.7363 - val_loss: 0.5835 - val_accuracy: 0.7052\n",
      "Epoch 5/20\n",
      "16/16 [==============================] - 176s 11s/step - loss: 0.5860 - accuracy: 0.6992 - val_loss: 0.6912 - val_accuracy: 0.5744\n",
      "Epoch 6/20\n",
      "16/16 [==============================] - 174s 11s/step - loss: 0.7161 - accuracy: 0.6421 - val_loss: 0.7028 - val_accuracy: 0.5518\n",
      "Epoch 7/20\n",
      "16/16 [==============================] - 172s 11s/step - loss: 0.5734 - accuracy: 0.6953 - val_loss: 0.7112 - val_accuracy: 0.5917\n",
      "Epoch 8/20\n",
      "16/16 [==============================] - 172s 11s/step - loss: 0.5182 - accuracy: 0.7188 - val_loss: 1.3215 - val_accuracy: 0.5975\n",
      "Epoch 9/20\n",
      "16/16 [==============================] - 179s 12s/step - loss: 0.5878 - accuracy: 0.6855 - val_loss: 0.6397 - val_accuracy: 0.6369\n",
      "Epoch 10/20\n",
      "16/16 [==============================] - 170s 11s/step - loss: 0.5793 - accuracy: 0.6892 - val_loss: 0.6704 - val_accuracy: 0.5638\n",
      "Epoch 11/20\n",
      "16/16 [==============================] - 173s 11s/step - loss: 0.6495 - accuracy: 0.6191 - val_loss: 0.6570 - val_accuracy: 0.6227\n",
      "Epoch 12/20\n",
      "16/16 [==============================] - 173s 11s/step - loss: 0.5562 - accuracy: 0.7012 - val_loss: 0.6646 - val_accuracy: 0.6069\n",
      "Epoch 13/20\n",
      "16/16 [==============================] - 172s 11s/step - loss: 0.5514 - accuracy: 0.7148 - val_loss: 0.6600 - val_accuracy: 0.6290\n",
      "Epoch 14/20\n",
      "16/16 [==============================] - 173s 11s/step - loss: 0.6060 - accuracy: 0.6426 - val_loss: 0.6458 - val_accuracy: 0.5717\n",
      "Epoch 15/20\n",
      "16/16 [==============================] - 173s 11s/step - loss: 0.5542 - accuracy: 0.6914 - val_loss: 0.6157 - val_accuracy: 0.6558\n",
      "Epoch 16/20\n",
      "16/16 [==============================] - 173s 11s/step - loss: 0.5678 - accuracy: 0.7109 - val_loss: 0.6213 - val_accuracy: 0.6563\n",
      "Epoch 17/20\n",
      "16/16 [==============================] - 176s 11s/step - loss: 0.5402 - accuracy: 0.7485 - val_loss: 0.6732 - val_accuracy: 0.6012\n",
      "Epoch 18/20\n",
      "16/16 [==============================] - 174s 11s/step - loss: 1.1495 - accuracy: 0.6758 - val_loss: 0.6999 - val_accuracy: 0.5565\n",
      "Epoch 19/20\n",
      "16/16 [==============================] - 173s 11s/step - loss: 0.6806 - accuracy: 0.6133 - val_loss: 0.6863 - val_accuracy: 0.5738\n",
      "Epoch 20/20\n",
      "16/16 [==============================] - 173s 11s/step - loss: 0.6901 - accuracy: 0.5481 - val_loss: 0.6906 - val_accuracy: 0.5723\n"
     ]
    }
   ],
   "source": [
    "model = models.fit(\n",
    "    train_dt_generator,\n",
    "    steps_per_epoch=16,\n",
    "    batch_size=8,\n",
    "    epochs=20,\n",
    "    validation_data=validation_dt_generator\n",
    ")"
   ]
  },
  {
   "cell_type": "code",
   "execution_count": 29,
   "id": "50a4f907",
   "metadata": {},
   "outputs": [
    {
     "name": "stderr",
     "output_type": "stream",
     "text": [
      "C:\\Users\\Andreas Sahir\\AppData\\Local\\anaconda3\\envs\\breast-cancer\\lib\\site-packages\\keras\\src\\engine\\training.py:3079: UserWarning: You are saving your model as an HDF5 file via `model.save()`. This file format is considered legacy. We recommend using instead the native Keras format, e.g. `model.save('my_model.keras')`.\n",
      "  saving_api.save_model(\n"
     ]
    },
    {
     "name": "stdout",
     "output_type": "stream",
     "text": [
      "Model Saved!\n"
     ]
    }
   ],
   "source": [
    "# save model\n",
    "models.save('bcancer_model.h5')\n",
    "print('Model Saved!')"
   ]
  },
  {
   "cell_type": "code",
   "execution_count": null,
   "id": "6531a4ee",
   "metadata": {},
   "outputs": [],
   "source": []
  }
 ],
 "metadata": {
  "kernelspec": {
   "display_name": "Python 3 (ipykernel)",
   "language": "python",
   "name": "python3"
  },
  "language_info": {
   "codemirror_mode": {
    "name": "ipython",
    "version": 3
   },
   "file_extension": ".py",
   "mimetype": "text/x-python",
   "name": "python",
   "nbconvert_exporter": "python",
   "pygments_lexer": "ipython3",
   "version": "3.10.13"
  }
 },
 "nbformat": 4,
 "nbformat_minor": 5
}
