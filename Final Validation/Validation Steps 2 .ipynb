{
 "cells": [
  {
   "cell_type": "code",
   "execution_count": 112,
   "id": "e0422108",
   "metadata": {},
   "outputs": [],
   "source": [
    "import os\n",
    "import numpy as np\n",
    "import pandas as pd\n",
    "\n",
    "\n",
    "#Distance Calculation\n",
    "from scipy.spatial import distance"
   ]
  },
  {
   "cell_type": "code",
   "execution_count": 113,
   "id": "7a3a28a7",
   "metadata": {},
   "outputs": [],
   "source": [
    "insitu = pd.read_excel(r\"D:\\S1\\Semester 7\\NAIST Internship\\Breast Cancer Project\\Program\\insitu_feat.xlsx\")\n",
    "invasive = pd.read_excel(r\"D:\\S1\\Semester 7\\NAIST Internship\\Breast Cancer Project\\Program\\invasive_feature.xlsx\")"
   ]
  },
  {
   "cell_type": "code",
   "execution_count": 114,
   "id": "0069b235",
   "metadata": {},
   "outputs": [],
   "source": [
    "insitu_feat = insitu.values\n",
    "invasive_feat = invasive.values\n"
   ]
  },
  {
   "cell_type": "code",
   "execution_count": 115,
   "id": "f20e5063",
   "metadata": {},
   "outputs": [],
   "source": [
    "group_1 = pd.read_excel(r\"D:\\S1\\Semester 7\\NAIST Internship\\Breast Cancer Project\\Program\\Excel\\C1_C7.xlsx\")\n",
    "group_2 = pd.read_excel(r\"D:\\S1\\Semester 7\\NAIST Internship\\Breast Cancer Project\\Program\\Excel\\C0_C2_C3_C4_C5_C6_C8.xlsx\")\n",
    "\n",
    "\n",
    "\n",
    "## group 1 are C1 and C7\n",
    "## group 2 are C0, C2, C3, C4, C5, C6, and C8"
   ]
  },
  {
   "cell_type": "code",
   "execution_count": 117,
   "id": "ed2053aa",
   "metadata": {},
   "outputs": [
    {
     "data": {
      "text/plain": [
       "512"
      ]
     },
     "execution_count": 117,
     "metadata": {},
     "output_type": "execute_result"
    }
   ],
   "source": [
    "group1_feat = group_1.values\n",
    "group2_feat = group_2.values\n",
    "group1_feat.shape[1]"
   ]
  },
  {
   "cell_type": "markdown",
   "id": "4eddde3d",
   "metadata": {},
   "source": [
    "## In Situ Carcinoma Distance"
   ]
  },
  {
   "cell_type": "code",
   "execution_count": 139,
   "id": "3c1c8923",
   "metadata": {},
   "outputs": [],
   "source": [
    "insitu_dist1 = np.eye(N=1,M=2,dtype=float)\n",
    "#In Situ Distance\n",
    "for i in range(0,2):\n",
    "        insitu_dist1[0][i] = distance.euclidean(group1_feat[i], insitu_feat[0])\n"
   ]
  },
  {
   "cell_type": "code",
   "execution_count": 119,
   "id": "d46a0d37",
   "metadata": {},
   "outputs": [
    {
     "data": {
      "text/html": [
       "<style type=\"text/css\">\n",
       "#T_af493_row0_col0, #T_af493_row0_col1 {\n",
       "  background-color: #ffffcc;\n",
       "  color: #000000;\n",
       "}\n",
       "</style>\n",
       "<table id=\"T_af493\">\n",
       "  <thead>\n",
       "    <tr>\n",
       "      <th class=\"blank level0\" >&nbsp;</th>\n",
       "      <th id=\"T_af493_level0_col0\" class=\"col_heading level0 col0\" >0</th>\n",
       "      <th id=\"T_af493_level0_col1\" class=\"col_heading level0 col1\" >1</th>\n",
       "    </tr>\n",
       "  </thead>\n",
       "  <tbody>\n",
       "    <tr>\n",
       "      <th id=\"T_af493_level0_row0\" class=\"row_heading level0 row0\" >0</th>\n",
       "      <td id=\"T_af493_row0_col0\" class=\"data row0 col0\" >18018.586169</td>\n",
       "      <td id=\"T_af493_row0_col1\" class=\"data row0 col1\" >27353.317939</td>\n",
       "    </tr>\n",
       "  </tbody>\n",
       "</table>\n"
      ],
      "text/plain": [
       "<pandas.io.formats.style.Styler at 0x1c6c5344640>"
      ]
     },
     "execution_count": 119,
     "metadata": {},
     "output_type": "execute_result"
    }
   ],
   "source": [
    "dist_df = pd.DataFrame(insitu_dist1)\n",
    "dist_df.style.background_gradient(cmap='YlOrRd')"
   ]
  },
  {
   "cell_type": "code",
   "execution_count": 124,
   "id": "cd15509a",
   "metadata": {},
   "outputs": [
    {
     "name": "stdout",
     "output_type": "stream",
     "text": [
      "22685.952053953784\n"
     ]
    }
   ],
   "source": [
    "insitu_dist1 = np.mean(insitu_dist1)\n",
    "print(insitu_dist1)"
   ]
  },
  {
   "cell_type": "code",
   "execution_count": 142,
   "id": "0077ca50",
   "metadata": {},
   "outputs": [],
   "source": [
    "insitu_dist2 = np.eye(N=1,M=7,dtype=float)\n",
    "#In Situ Distance\n",
    "for i in range(0,7):\n",
    "        insitu_dist2[0][i] = distance.euclidean(group2_feat[i], insitu_feat[0])\n"
   ]
  },
  {
   "cell_type": "code",
   "execution_count": 126,
   "id": "c8301854",
   "metadata": {},
   "outputs": [
    {
     "data": {
      "text/html": [
       "<style type=\"text/css\">\n",
       "#T_554c6_row0_col0, #T_554c6_row0_col1, #T_554c6_row0_col2, #T_554c6_row0_col3, #T_554c6_row0_col4, #T_554c6_row0_col5, #T_554c6_row0_col6 {\n",
       "  background-color: #ffffcc;\n",
       "  color: #000000;\n",
       "}\n",
       "</style>\n",
       "<table id=\"T_554c6\">\n",
       "  <thead>\n",
       "    <tr>\n",
       "      <th class=\"blank level0\" >&nbsp;</th>\n",
       "      <th id=\"T_554c6_level0_col0\" class=\"col_heading level0 col0\" >0</th>\n",
       "      <th id=\"T_554c6_level0_col1\" class=\"col_heading level0 col1\" >1</th>\n",
       "      <th id=\"T_554c6_level0_col2\" class=\"col_heading level0 col2\" >2</th>\n",
       "      <th id=\"T_554c6_level0_col3\" class=\"col_heading level0 col3\" >3</th>\n",
       "      <th id=\"T_554c6_level0_col4\" class=\"col_heading level0 col4\" >4</th>\n",
       "      <th id=\"T_554c6_level0_col5\" class=\"col_heading level0 col5\" >5</th>\n",
       "      <th id=\"T_554c6_level0_col6\" class=\"col_heading level0 col6\" >6</th>\n",
       "    </tr>\n",
       "  </thead>\n",
       "  <tbody>\n",
       "    <tr>\n",
       "      <th id=\"T_554c6_level0_row0\" class=\"row_heading level0 row0\" >0</th>\n",
       "      <td id=\"T_554c6_row0_col0\" class=\"data row0 col0\" >4516.332914</td>\n",
       "      <td id=\"T_554c6_row0_col1\" class=\"data row0 col1\" >4123.392438</td>\n",
       "      <td id=\"T_554c6_row0_col2\" class=\"data row0 col2\" >10364.212207</td>\n",
       "      <td id=\"T_554c6_row0_col3\" class=\"data row0 col3\" >2710.285480</td>\n",
       "      <td id=\"T_554c6_row0_col4\" class=\"data row0 col4\" >7458.265913</td>\n",
       "      <td id=\"T_554c6_row0_col5\" class=\"data row0 col5\" >10391.888067</td>\n",
       "      <td id=\"T_554c6_row0_col6\" class=\"data row0 col6\" >15051.875495</td>\n",
       "    </tr>\n",
       "  </tbody>\n",
       "</table>\n"
      ],
      "text/plain": [
       "<pandas.io.formats.style.Styler at 0x1c6c5d0ee60>"
      ]
     },
     "execution_count": 126,
     "metadata": {},
     "output_type": "execute_result"
    }
   ],
   "source": [
    "dist_df = pd.DataFrame(insitu_dist2)\n",
    "dist_df.style.background_gradient(cmap='YlOrRd')"
   ]
  },
  {
   "cell_type": "code",
   "execution_count": 127,
   "id": "9d8b7224",
   "metadata": {},
   "outputs": [
    {
     "name": "stdout",
     "output_type": "stream",
     "text": [
      "7802.321787661048\n"
     ]
    }
   ],
   "source": [
    "insitu_dist2 = np.mean(insitu_dist2)\n",
    "print(insitu_dist2)"
   ]
  },
  {
   "cell_type": "markdown",
   "id": "f2fb1cc5",
   "metadata": {},
   "source": [
    "## Invasive Carcinoma Distance"
   ]
  },
  {
   "cell_type": "code",
   "execution_count": 144,
   "id": "0ef533b4",
   "metadata": {},
   "outputs": [],
   "source": [
    "invasive_dist1 = np.eye(N=1,M=2,dtype=float)\n",
    "#In Situ Distance\n",
    "for i in range(0,2):\n",
    "        invasive_dist1[0][i] = distance.euclidean(group1_feat[i], invasive_feat[0])\n"
   ]
  },
  {
   "cell_type": "code",
   "execution_count": 129,
   "id": "da5d9122",
   "metadata": {},
   "outputs": [
    {
     "data": {
      "text/html": [
       "<style type=\"text/css\">\n",
       "#T_8f8f5_row0_col0, #T_8f8f5_row0_col1 {\n",
       "  background-color: #ffffcc;\n",
       "  color: #000000;\n",
       "}\n",
       "</style>\n",
       "<table id=\"T_8f8f5\">\n",
       "  <thead>\n",
       "    <tr>\n",
       "      <th class=\"blank level0\" >&nbsp;</th>\n",
       "      <th id=\"T_8f8f5_level0_col0\" class=\"col_heading level0 col0\" >0</th>\n",
       "      <th id=\"T_8f8f5_level0_col1\" class=\"col_heading level0 col1\" >1</th>\n",
       "    </tr>\n",
       "  </thead>\n",
       "  <tbody>\n",
       "    <tr>\n",
       "      <th id=\"T_8f8f5_level0_row0\" class=\"row_heading level0 row0\" >0</th>\n",
       "      <td id=\"T_8f8f5_row0_col0\" class=\"data row0 col0\" >29754.603396</td>\n",
       "      <td id=\"T_8f8f5_row0_col1\" class=\"data row0 col1\" >38921.801850</td>\n",
       "    </tr>\n",
       "  </tbody>\n",
       "</table>\n"
      ],
      "text/plain": [
       "<pandas.io.formats.style.Styler at 0x1c6c5d0e5c0>"
      ]
     },
     "execution_count": 129,
     "metadata": {},
     "output_type": "execute_result"
    }
   ],
   "source": [
    "dist_df = pd.DataFrame(invasive_dist1)\n",
    "dist_df.style.background_gradient(cmap='YlOrRd')"
   ]
  },
  {
   "cell_type": "code",
   "execution_count": 130,
   "id": "101b5529",
   "metadata": {},
   "outputs": [
    {
     "name": "stdout",
     "output_type": "stream",
     "text": [
      "34338.202623166726\n"
     ]
    }
   ],
   "source": [
    "invasive_dist1 = np.mean(invasive_dist1)\n",
    "print(invasive_dist1)"
   ]
  },
  {
   "cell_type": "code",
   "execution_count": 150,
   "id": "b8d569b0",
   "metadata": {},
   "outputs": [],
   "source": [
    "invasive_dist2 = np.eye(N=1,M=7,dtype=float)\n",
    "#In Situ Distance\n",
    "for i in range(0,7):\n",
    "        invasive_dist2[0][i] = distance.euclidean(group2_feat[i], invasive_feat[0])\n"
   ]
  },
  {
   "cell_type": "code",
   "execution_count": 132,
   "id": "ec657dcc",
   "metadata": {},
   "outputs": [
    {
     "data": {
      "text/html": [
       "<style type=\"text/css\">\n",
       "#T_85c7e_row0_col0, #T_85c7e_row0_col1, #T_85c7e_row0_col2, #T_85c7e_row0_col3, #T_85c7e_row0_col4, #T_85c7e_row0_col5, #T_85c7e_row0_col6 {\n",
       "  background-color: #ffffcc;\n",
       "  color: #000000;\n",
       "}\n",
       "</style>\n",
       "<table id=\"T_85c7e\">\n",
       "  <thead>\n",
       "    <tr>\n",
       "      <th class=\"blank level0\" >&nbsp;</th>\n",
       "      <th id=\"T_85c7e_level0_col0\" class=\"col_heading level0 col0\" >0</th>\n",
       "      <th id=\"T_85c7e_level0_col1\" class=\"col_heading level0 col1\" >1</th>\n",
       "      <th id=\"T_85c7e_level0_col2\" class=\"col_heading level0 col2\" >2</th>\n",
       "      <th id=\"T_85c7e_level0_col3\" class=\"col_heading level0 col3\" >3</th>\n",
       "      <th id=\"T_85c7e_level0_col4\" class=\"col_heading level0 col4\" >4</th>\n",
       "      <th id=\"T_85c7e_level0_col5\" class=\"col_heading level0 col5\" >5</th>\n",
       "      <th id=\"T_85c7e_level0_col6\" class=\"col_heading level0 col6\" >6</th>\n",
       "    </tr>\n",
       "  </thead>\n",
       "  <tbody>\n",
       "    <tr>\n",
       "      <th id=\"T_85c7e_level0_row0\" class=\"row_heading level0 row0\" >0</th>\n",
       "      <td id=\"T_85c7e_row0_col0\" class=\"data row0 col0\" >7947.520615</td>\n",
       "      <td id=\"T_85c7e_row0_col1\" class=\"data row0 col1\" >15807.713968</td>\n",
       "      <td id=\"T_85c7e_row0_col2\" class=\"data row0 col2\" >1847.706776</td>\n",
       "      <td id=\"T_85c7e_row0_col3\" class=\"data row0 col3\" >11170.783536</td>\n",
       "      <td id=\"T_85c7e_row0_col4\" class=\"data row0 col4\" >5663.621585</td>\n",
       "      <td id=\"T_85c7e_row0_col5\" class=\"data row0 col5\" >22211.434335</td>\n",
       "      <td id=\"T_85c7e_row0_col6\" class=\"data row0 col6\" >3582.575858</td>\n",
       "    </tr>\n",
       "  </tbody>\n",
       "</table>\n"
      ],
      "text/plain": [
       "<pandas.io.formats.style.Styler at 0x1c6c5ae7e20>"
      ]
     },
     "execution_count": 132,
     "metadata": {},
     "output_type": "execute_result"
    }
   ],
   "source": [
    "dist_df = pd.DataFrame(invasive_dist2)\n",
    "dist_df.style.background_gradient(cmap='YlOrRd')"
   ]
  },
  {
   "cell_type": "code",
   "execution_count": 133,
   "id": "c2bd2685",
   "metadata": {},
   "outputs": [
    {
     "name": "stdout",
     "output_type": "stream",
     "text": [
      "9747.33666754844\n"
     ]
    }
   ],
   "source": [
    "invasive_dist2 = np.mean(invasive_dist2)\n",
    "print(invasive_dist2)"
   ]
  },
  {
   "cell_type": "code",
   "execution_count": 68,
   "id": "52aa1883",
   "metadata": {},
   "outputs": [],
   "source": [
    "Validation = np.eye(N=2,M=2, dtype=float)\n",
    "Validation[0][0] = insitu_dist1\n",
    "Validation[0][1] = invasive_dist1\n",
    "Validation[1][0] = insitu_dist2\n",
    "Validation[1][1] = invasive_dist2\n",
    "\n",
    "    "
   ]
  },
  {
   "cell_type": "code",
   "execution_count": 69,
   "id": "60f03d66",
   "metadata": {},
   "outputs": [
    {
     "data": {
      "text/html": [
       "<style type=\"text/css\">\n",
       "#T_254a1_row0_col0, #T_254a1_row1_col0 {\n",
       "  background-color: lightgreen;\n",
       "}\n",
       "</style>\n",
       "<table id=\"T_254a1\">\n",
       "  <thead>\n",
       "    <tr>\n",
       "      <th class=\"blank level0\" >&nbsp;</th>\n",
       "      <th id=\"T_254a1_level0_col0\" class=\"col_heading level0 col0\" >0</th>\n",
       "      <th id=\"T_254a1_level0_col1\" class=\"col_heading level0 col1\" >1</th>\n",
       "    </tr>\n",
       "  </thead>\n",
       "  <tbody>\n",
       "    <tr>\n",
       "      <th id=\"T_254a1_level0_row0\" class=\"row_heading level0 row0\" >0</th>\n",
       "      <td id=\"T_254a1_row0_col0\" class=\"data row0 col0\" >22685.952054</td>\n",
       "      <td id=\"T_254a1_row0_col1\" class=\"data row0 col1\" >34338.202623</td>\n",
       "    </tr>\n",
       "    <tr>\n",
       "      <th id=\"T_254a1_level0_row1\" class=\"row_heading level0 row1\" >1</th>\n",
       "      <td id=\"T_254a1_row1_col0\" class=\"data row1 col0\" >7458.265913</td>\n",
       "      <td id=\"T_254a1_row1_col1\" class=\"data row1 col1\" >7947.520615</td>\n",
       "    </tr>\n",
       "  </tbody>\n",
       "</table>\n"
      ],
      "text/plain": [
       "<pandas.io.formats.style.Styler at 0x1c6c533be50>"
      ]
     },
     "execution_count": 69,
     "metadata": {},
     "output_type": "execute_result"
    }
   ],
   "source": [
    "dist_df = pd.DataFrame(Validation)\n",
    "\n",
    "dist_df.style.highlight_min(color = 'lightgreen',  \n",
    "                       axis = 1) "
   ]
  },
  {
   "cell_type": "markdown",
   "id": "d3f88154",
   "metadata": {},
   "source": [
    "### Centroid Groups Approach"
   ]
  },
  {
   "cell_type": "code",
   "execution_count": 107,
   "id": "3b0ea90f",
   "metadata": {},
   "outputs": [],
   "source": [
    "group_centroid = np.empty((2, group1_feat.shape[1]))\n",
    "\n",
    "group1_feat = np.mean(group1_feat, axis=0)\n",
    "group2_feat = np.mean(group2_feat, axis=0)\n",
    "\n",
    "group_centroid [0] = group1_feat\n",
    "group_centroid [1] = group2_feat\n"
   ]
  },
  {
   "cell_type": "code",
   "execution_count": 108,
   "id": "71bd6d1e",
   "metadata": {},
   "outputs": [],
   "source": [
    "val_data = pd.read_excel(r'D:\\S1\\Semester 7\\NAIST Internship\\Breast Cancer Project\\Program\\val_feature.xlsx')\n",
    "val_feat = val_data.values\n"
   ]
  },
  {
   "cell_type": "code",
   "execution_count": 109,
   "id": "a1a1cabd",
   "metadata": {},
   "outputs": [],
   "source": [
    "centroid_dist = np.eye(N=2,M=2,dtype=float)\n",
    "#In Situ Distance\n",
    "for i in range(0,2):\n",
    "    for j in range (0,2):\n",
    "        centroid_dist[i][j] = distance.euclidean(group_centroid[i], val_feat[j])\n"
   ]
  },
  {
   "cell_type": "code",
   "execution_count": 110,
   "id": "95201af4",
   "metadata": {},
   "outputs": [
    {
     "data": {
      "text/html": [
       "<style type=\"text/css\">\n",
       "#T_37f5e_row0_col0, #T_37f5e_row1_col0 {\n",
       "  background-color: lightgreen;\n",
       "}\n",
       "</style>\n",
       "<table id=\"T_37f5e\">\n",
       "  <thead>\n",
       "    <tr>\n",
       "      <th class=\"blank level0\" >&nbsp;</th>\n",
       "      <th id=\"T_37f5e_level0_col0\" class=\"col_heading level0 col0\" >0</th>\n",
       "      <th id=\"T_37f5e_level0_col1\" class=\"col_heading level0 col1\" >1</th>\n",
       "    </tr>\n",
       "  </thead>\n",
       "  <tbody>\n",
       "    <tr>\n",
       "      <th id=\"T_37f5e_level0_row0\" class=\"row_heading level0 row0\" >0</th>\n",
       "      <td id=\"T_37f5e_row0_col0\" class=\"data row0 col0\" >22675.182058</td>\n",
       "      <td id=\"T_37f5e_row0_col1\" class=\"data row0 col1\" >34319.800375</td>\n",
       "    </tr>\n",
       "    <tr>\n",
       "      <th id=\"T_37f5e_level0_row1\" class=\"row_heading level0 row1\" >1</th>\n",
       "      <td id=\"T_37f5e_row1_col0\" class=\"data row1 col0\" >3484.339242</td>\n",
       "      <td id=\"T_37f5e_row1_col1\" class=\"data row1 col1\" >8636.738388</td>\n",
       "    </tr>\n",
       "  </tbody>\n",
       "</table>\n"
      ],
      "text/plain": [
       "<pandas.io.formats.style.Styler at 0x1c6c57af400>"
      ]
     },
     "execution_count": 110,
     "metadata": {},
     "output_type": "execute_result"
    }
   ],
   "source": [
    "dist_df = pd.DataFrame(centroid_dist)\n",
    "\n",
    "dist_df.style.highlight_min(color = 'lightgreen',  \n",
    "                       axis = 1) "
   ]
  },
  {
   "cell_type": "markdown",
   "id": "9e427d2e",
   "metadata": {},
   "source": [
    "## Minimum Distance Value Approach (Final Approach)"
   ]
  },
  {
   "cell_type": "code",
   "execution_count": 146,
   "id": "ed310871",
   "metadata": {},
   "outputs": [
    {
     "name": "stdout",
     "output_type": "stream",
     "text": [
      "18018.586169207676\n",
      "29754.603395954033\n"
     ]
    }
   ],
   "source": [
    "insitu_dist1 = np.min(insitu_dist1)\n",
    "print(insitu_dist1)\n",
    "\n",
    "invasive_dist1 = np.min(invasive_dist1)\n",
    "print(invasive_dist1)"
   ]
  },
  {
   "cell_type": "code",
   "execution_count": 151,
   "id": "44d764e9",
   "metadata": {},
   "outputs": [
    {
     "name": "stdout",
     "output_type": "stream",
     "text": [
      "2710.28547999718\n",
      "1847.7067759706304\n"
     ]
    }
   ],
   "source": [
    "insitu_dist2 = np.min(insitu_dist2)\n",
    "print(insitu_dist2)\n",
    "\n",
    "invasive_dist2 = np.min(invasive_dist2)\n",
    "print(invasive_dist2)"
   ]
  },
  {
   "cell_type": "code",
   "execution_count": 152,
   "id": "a0c7aff8",
   "metadata": {},
   "outputs": [],
   "source": [
    "Validation = np.eye(N=2,M=2, dtype=float)\n",
    "Validation[0][0] = insitu_dist1\n",
    "Validation[0][1] = invasive_dist1\n",
    "Validation[1][0] = insitu_dist2\n",
    "Validation[1][1] = invasive_dist2\n",
    "\n",
    "    "
   ]
  },
  {
   "cell_type": "code",
   "execution_count": 162,
   "id": "bfd1e229",
   "metadata": {},
   "outputs": [
    {
     "data": {
      "text/html": [
       "<style type=\"text/css\">\n",
       "#T_7f46b_row0_col0, #T_7f46b_row1_col1 {\n",
       "  background-color: lightblue;\n",
       "}\n",
       "</style>\n",
       "<table id=\"T_7f46b\">\n",
       "  <thead>\n",
       "    <tr>\n",
       "      <th class=\"blank level0\" >&nbsp;</th>\n",
       "      <th id=\"T_7f46b_level0_col0\" class=\"col_heading level0 col0\" >In Situ</th>\n",
       "      <th id=\"T_7f46b_level0_col1\" class=\"col_heading level0 col1\" >Invasive</th>\n",
       "    </tr>\n",
       "  </thead>\n",
       "  <tbody>\n",
       "    <tr>\n",
       "      <th id=\"T_7f46b_level0_row0\" class=\"row_heading level0 row0\" >Group 1</th>\n",
       "      <td id=\"T_7f46b_row0_col0\" class=\"data row0 col0\" >18018.586169</td>\n",
       "      <td id=\"T_7f46b_row0_col1\" class=\"data row0 col1\" >29754.603396</td>\n",
       "    </tr>\n",
       "    <tr>\n",
       "      <th id=\"T_7f46b_level0_row1\" class=\"row_heading level0 row1\" >Group 2</th>\n",
       "      <td id=\"T_7f46b_row1_col0\" class=\"data row1 col0\" >2710.285480</td>\n",
       "      <td id=\"T_7f46b_row1_col1\" class=\"data row1 col1\" >1847.706776</td>\n",
       "    </tr>\n",
       "  </tbody>\n",
       "</table>\n"
      ],
      "text/plain": [
       "<pandas.io.formats.style.Styler at 0x1c6c610b190>"
      ]
     },
     "execution_count": 162,
     "metadata": {},
     "output_type": "execute_result"
    }
   ],
   "source": [
    "dist_df = pd.DataFrame(Validation)\n",
    "\n",
    "\n",
    "dist_df.columns =['In Situ', 'Invasive']\n",
    "dist_df.index = ['Group 1', 'Group 2']\n",
    "\n",
    "dist_df.style.highlight_min(color = 'light',  \n",
    "                       axis = 1) \n",
    "\n",
    "## Group 1 are C1 and C7\n",
    "## Group 2 are C0, C2, C3, C4, C5, C6, and C8"
   ]
  },
  {
   "cell_type": "code",
   "execution_count": null,
   "id": "fc4b0187",
   "metadata": {},
   "outputs": [],
   "source": []
  }
 ],
 "metadata": {
  "kernelspec": {
   "display_name": "Python 3 (ipykernel)",
   "language": "python",
   "name": "python3"
  },
  "language_info": {
   "codemirror_mode": {
    "name": "ipython",
    "version": 3
   },
   "file_extension": ".py",
   "mimetype": "text/x-python",
   "name": "python",
   "nbconvert_exporter": "python",
   "pygments_lexer": "ipython3",
   "version": "3.10.13"
  }
 },
 "nbformat": 4,
 "nbformat_minor": 5
}
