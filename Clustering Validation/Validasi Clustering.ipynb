{
 "cells": [
  {
   "cell_type": "code",
   "execution_count": 167,
   "id": "b0c9a9ac",
   "metadata": {},
   "outputs": [],
   "source": [
    "# models \n",
    "from tensorflow.keras.models import load_model\n",
    "from tensorflow.keras.models import Model\n",
    "from keras.preprocessing.image import load_img \n",
    "from keras.preprocessing.image import img_to_array \n",
    "from keras.applications.vgg16 import preprocess_input \n",
    "\n",
    "# clustering \n",
    "from sklearn.cluster import KMeans\n",
    "from sklearn.cluster import AgglomerativeClustering\n",
    "\n",
    "\n",
    "import os\n",
    "import numpy as np\n",
    "import matplotlib.pyplot as plt\n",
    "from random import randint\n",
    "import pandas as pd\n",
    "import pickle\n",
    "\n",
    "#Distance Calculation\n",
    "from scipy.spatial import distance"
   ]
  },
  {
   "cell_type": "code",
   "execution_count": 168,
   "id": "8bc6ebb9",
   "metadata": {},
   "outputs": [],
   "source": [
    "model=load_model(r\"D:\\Ambis Kuliah\\Semester 7\\NAIST Internship\\Breast Cancer Project\\Program\\bcancer_modelv3.h5\")\n",
    "model = Model(inputs=model.inputs, outputs=model.layers[-2].output)\n",
    "#model.summary()"
   ]
  },
  {
   "cell_type": "code",
   "execution_count": 169,
   "id": "8244b794",
   "metadata": {},
   "outputs": [],
   "source": [
    "b = pd.read_excel(r'D:\\Ambis Kuliah\\Semester 7\\NAIST Internship\\Breast Cancer Project\\Program\\featuree.xlsx')\n"
   ]
  },
  {
   "cell_type": "code",
   "execution_count": 170,
   "id": "5251e5f0",
   "metadata": {},
   "outputs": [],
   "source": [
    "ward  = AgglomerativeClustering(n_clusters=9, metric='euclidean', linkage='ward')\n",
    "\n",
    "\n",
    "labels = ward.fit_predict(b.values)"
   ]
  },
  {
   "cell_type": "code",
   "execution_count": 171,
   "id": "e9d99eb0",
   "metadata": {},
   "outputs": [],
   "source": [
    "def extract_features(file, model):\n",
    "    img = load_img(file, target_size=(224,224))\n",
    "    img = np.array(img) \n",
    "    reshaped_img = img.reshape(1,224,224,3) \n",
    "    \n",
    "    # prepare image for model\n",
    "    imgx = preprocess_input(reshaped_img)\n",
    "    \n",
    "    # get the feature vector\n",
    "    features = model.predict(imgx, use_multiprocessing=True)\n",
    "    return features"
   ]
  },
  {
   "cell_type": "code",
   "execution_count": 211,
   "id": "fc16eb9d",
   "metadata": {},
   "outputs": [],
   "source": [
    "lobular_carcinoma_in_situ = r\"D:\\Ambis Kuliah\\Semester 7\\NAIST Internship\\Breast Cancer Project\\Program\\Validation Cluster\\Preprocessing\\Lobular Carcinoma In Situ.jpg\"\n",
    "\n",
    "invasive_lobular_carninoma = r\"D:\\Ambis Kuliah\\Semester 7\\NAIST Internship\\Breast Cancer Project\\Program\\Validation Cluster\\Preprocessing\\Invasive Lobular Carcinoma.jpg\""
   ]
  },
  {
   "cell_type": "code",
   "execution_count": 212,
   "id": "4569528a",
   "metadata": {},
   "outputs": [
    {
     "name": "stdout",
     "output_type": "stream",
     "text": [
      "1/1 [==============================] - 0s 26ms/step\n"
     ]
    },
    {
     "data": {
      "text/plain": [
       "(1, 512)"
      ]
     },
     "execution_count": 212,
     "metadata": {},
     "output_type": "execute_result"
    }
   ],
   "source": [
    "in_situ_feat = {}\n",
    "\n",
    "feat = extract_features(lobular_carcinoma_in_situ, model)\n",
    "in_situ_feat[0] = feat\n",
    "\n",
    "filenames = np.array(list(in_situ_feat.keys()))\n",
    "\n",
    "insitu_feat = np.array(list(in_situ_feat.values()))\n",
    "insitu_feat = insitu_feat.reshape(-1,512)\n",
    "\n",
    "insitu_feat.shape"
   ]
  },
  {
   "cell_type": "code",
   "execution_count": 213,
   "id": "57c5e439",
   "metadata": {},
   "outputs": [
    {
     "name": "stdout",
     "output_type": "stream",
     "text": [
      "1/1 [==============================] - 0s 24ms/step\n"
     ]
    }
   ],
   "source": [
    "in_vasive_feat = {}\n",
    "\n",
    "feat = extract_features(invasive_lobular_carninoma, model)\n",
    "in_vasive_feat[0] = feat\n",
    "\n",
    "filenames = np.array(list(in_vasive_feat.keys()))\n",
    "\n",
    "invasive_feat = np.array(list(in_vasive_feat.values()))\n",
    "invasive_feat = invasive_feat.reshape(-1,512)\n",
    "\n",
    "#print(invasive_feat)\n"
   ]
  },
  {
   "cell_type": "code",
   "execution_count": 215,
   "id": "5338313e",
   "metadata": {},
   "outputs": [],
   "source": [
    "#a = pd.DataFrame(insitu_feat)\n",
    "#a.to_excel(r'D:\\Ambis Kuliah\\Semester 7\\NAIST Internship\\Breast Cancer Project\\Program\\insitu_feat.xlsx')"
   ]
  },
  {
   "cell_type": "code",
   "execution_count": 216,
   "id": "8d9380d1",
   "metadata": {},
   "outputs": [],
   "source": [
    "val_data = pd.read_excel(r'D:\\Ambis Kuliah\\Semester 7\\NAIST Internship\\Breast Cancer Project\\Program\\val_feature.xlsx')"
   ]
  },
  {
   "cell_type": "code",
   "execution_count": 219,
   "id": "68d22cb9",
   "metadata": {},
   "outputs": [],
   "source": [
    "val_feat = val_data.values\n",
    "#print(val_feat[0])"
   ]
  },
  {
   "cell_type": "code",
   "execution_count": 220,
   "id": "2d6ea155",
   "metadata": {},
   "outputs": [],
   "source": [
    "cluster_centroids = np.empty((ward.n_clusters, b.shape[1]))\n",
    "for cluster_label in range(ward.n_clusters):\n",
    "    cluster_centroid = np.mean(b[ward.labels_ == cluster_label], axis=0)\n",
    "    cluster_centroids[cluster_label] = cluster_centroid"
   ]
  },
  {
   "cell_type": "code",
   "execution_count": 221,
   "id": "c5b09bc0",
   "metadata": {},
   "outputs": [],
   "source": [
    "#centroid = pd.DataFrame(cluster_centroids)\n",
    "#centroid.to_excel(r\"D:\\Ambis Kuliah\\Semester 7\\NAIST Internship\\Breast Cancer Project\\Program\\centroid_cluster.xlsx\")"
   ]
  },
  {
   "cell_type": "code",
   "execution_count": 222,
   "id": "604fe598",
   "metadata": {},
   "outputs": [],
   "source": [
    "centroid_feat = pd.read_excel(r\"D:\\Ambis Kuliah\\Semester 7\\NAIST Internship\\Breast Cancer Project\\Program\\centroid_cluster.xlsx\")\n",
    "centroid_feat = centroid_feat.values\n",
    "\n",
    "#print(centroid_feat[8])"
   ]
  },
  {
   "cell_type": "code",
   "execution_count": 223,
   "id": "347ea400",
   "metadata": {},
   "outputs": [],
   "source": [
    "dist = np.eye(N=2,M=9,dtype=float)\n",
    "#In Situ Distance\n",
    "for i in range(0,2):\n",
    "    for j in range(0,9):\n",
    "        dist[i][j] = distance.euclidean(centroid_feat[j], val_feat[i])\n"
   ]
  },
  {
   "cell_type": "code",
   "execution_count": 225,
   "id": "fe380543",
   "metadata": {},
   "outputs": [
    {
     "data": {
      "text/html": [
       "<style type=\"text/css\">\n",
       "#T_9f4b1_row0_col0, #T_9f4b1_row0_col1, #T_9f4b1_row0_col2, #T_9f4b1_row0_col4, #T_9f4b1_row0_col6, #T_9f4b1_row0_col7, #T_9f4b1_row1_col3, #T_9f4b1_row1_col5, #T_9f4b1_row1_col8 {\n",
       "  background-color: #ffffcc;\n",
       "  color: #000000;\n",
       "}\n",
       "#T_9f4b1_row0_col3, #T_9f4b1_row0_col5, #T_9f4b1_row0_col8, #T_9f4b1_row1_col0, #T_9f4b1_row1_col1, #T_9f4b1_row1_col2, #T_9f4b1_row1_col4, #T_9f4b1_row1_col6, #T_9f4b1_row1_col7 {\n",
       "  background-color: #800026;\n",
       "  color: #f1f1f1;\n",
       "}\n",
       "</style>\n",
       "<table id=\"T_9f4b1\">\n",
       "  <thead>\n",
       "    <tr>\n",
       "      <th class=\"blank level0\" >&nbsp;</th>\n",
       "      <th id=\"T_9f4b1_level0_col0\" class=\"col_heading level0 col0\" >0</th>\n",
       "      <th id=\"T_9f4b1_level0_col1\" class=\"col_heading level0 col1\" >1</th>\n",
       "      <th id=\"T_9f4b1_level0_col2\" class=\"col_heading level0 col2\" >2</th>\n",
       "      <th id=\"T_9f4b1_level0_col3\" class=\"col_heading level0 col3\" >3</th>\n",
       "      <th id=\"T_9f4b1_level0_col4\" class=\"col_heading level0 col4\" >4</th>\n",
       "      <th id=\"T_9f4b1_level0_col5\" class=\"col_heading level0 col5\" >5</th>\n",
       "      <th id=\"T_9f4b1_level0_col6\" class=\"col_heading level0 col6\" >6</th>\n",
       "      <th id=\"T_9f4b1_level0_col7\" class=\"col_heading level0 col7\" >7</th>\n",
       "      <th id=\"T_9f4b1_level0_col8\" class=\"col_heading level0 col8\" >8</th>\n",
       "    </tr>\n",
       "  </thead>\n",
       "  <tbody>\n",
       "    <tr>\n",
       "      <th id=\"T_9f4b1_level0_row0\" class=\"row_heading level0 row0\" >0</th>\n",
       "      <td id=\"T_9f4b1_row0_col0\" class=\"data row0 col0\" >4516.332914</td>\n",
       "      <td id=\"T_9f4b1_row0_col1\" class=\"data row0 col1\" >18018.586169</td>\n",
       "      <td id=\"T_9f4b1_row0_col2\" class=\"data row0 col2\" >4123.392438</td>\n",
       "      <td id=\"T_9f4b1_row0_col3\" class=\"data row0 col3\" >10364.212207</td>\n",
       "      <td id=\"T_9f4b1_row0_col4\" class=\"data row0 col4\" >2710.285480</td>\n",
       "      <td id=\"T_9f4b1_row0_col5\" class=\"data row0 col5\" >7458.265913</td>\n",
       "      <td id=\"T_9f4b1_row0_col6\" class=\"data row0 col6\" >10391.888067</td>\n",
       "      <td id=\"T_9f4b1_row0_col7\" class=\"data row0 col7\" >27353.317939</td>\n",
       "      <td id=\"T_9f4b1_row0_col8\" class=\"data row0 col8\" >15051.875495</td>\n",
       "    </tr>\n",
       "    <tr>\n",
       "      <th id=\"T_9f4b1_level0_row1\" class=\"row_heading level0 row1\" >1</th>\n",
       "      <td id=\"T_9f4b1_row1_col0\" class=\"data row1 col0\" >7947.520615</td>\n",
       "      <td id=\"T_9f4b1_row1_col1\" class=\"data row1 col1\" >29754.603396</td>\n",
       "      <td id=\"T_9f4b1_row1_col2\" class=\"data row1 col2\" >15807.713968</td>\n",
       "      <td id=\"T_9f4b1_row1_col3\" class=\"data row1 col3\" >1847.706776</td>\n",
       "      <td id=\"T_9f4b1_row1_col4\" class=\"data row1 col4\" >11170.783536</td>\n",
       "      <td id=\"T_9f4b1_row1_col5\" class=\"data row1 col5\" >5663.621585</td>\n",
       "      <td id=\"T_9f4b1_row1_col6\" class=\"data row1 col6\" >22211.434335</td>\n",
       "      <td id=\"T_9f4b1_row1_col7\" class=\"data row1 col7\" >38921.801850</td>\n",
       "      <td id=\"T_9f4b1_row1_col8\" class=\"data row1 col8\" >3582.575858</td>\n",
       "    </tr>\n",
       "  </tbody>\n",
       "</table>\n"
      ],
      "text/plain": [
       "<pandas.io.formats.style.Styler at 0x27aa0189a50>"
      ]
     },
     "execution_count": 225,
     "metadata": {},
     "output_type": "execute_result"
    }
   ],
   "source": [
    "dist_df = pd.DataFrame(dist)\n",
    "dist_df.style.background_gradient(cmap='YlOrRd')"
   ]
  },
  {
   "cell_type": "code",
   "execution_count": 226,
   "id": "1589c791",
   "metadata": {},
   "outputs": [],
   "source": [
    "from sklearn.metrics import pairwise"
   ]
  },
  {
   "cell_type": "code",
   "execution_count": 259,
   "id": "a91735ca",
   "metadata": {},
   "outputs": [],
   "source": [
    "dist2 = np.eye(N=2,M=9,dtype=float)\n",
    "#In Situ Distance\n",
    "for i in range(0,2):\n",
    "    for j in range(0,9):\n",
    "        dist2[i][j] = distance.correlation(centroid_feat[j], val_feat[i])"
   ]
  },
  {
   "cell_type": "code",
   "execution_count": 260,
   "id": "c1c86d9f",
   "metadata": {},
   "outputs": [
    {
     "data": {
      "text/html": [
       "<style type=\"text/css\">\n",
       "#T_dfc31_row0_col0, #T_dfc31_row0_col3, #T_dfc31_row0_col8, #T_dfc31_row1_col1, #T_dfc31_row1_col2, #T_dfc31_row1_col4, #T_dfc31_row1_col5, #T_dfc31_row1_col6, #T_dfc31_row1_col7 {\n",
       "  background-color: #800026;\n",
       "  color: #f1f1f1;\n",
       "}\n",
       "#T_dfc31_row0_col1, #T_dfc31_row0_col2, #T_dfc31_row0_col4, #T_dfc31_row0_col5, #T_dfc31_row0_col6, #T_dfc31_row0_col7, #T_dfc31_row1_col0, #T_dfc31_row1_col3, #T_dfc31_row1_col8 {\n",
       "  background-color: #ffffcc;\n",
       "  color: #000000;\n",
       "}\n",
       "</style>\n",
       "<table id=\"T_dfc31\">\n",
       "  <thead>\n",
       "    <tr>\n",
       "      <th class=\"blank level0\" >&nbsp;</th>\n",
       "      <th id=\"T_dfc31_level0_col0\" class=\"col_heading level0 col0\" >0</th>\n",
       "      <th id=\"T_dfc31_level0_col1\" class=\"col_heading level0 col1\" >1</th>\n",
       "      <th id=\"T_dfc31_level0_col2\" class=\"col_heading level0 col2\" >2</th>\n",
       "      <th id=\"T_dfc31_level0_col3\" class=\"col_heading level0 col3\" >3</th>\n",
       "      <th id=\"T_dfc31_level0_col4\" class=\"col_heading level0 col4\" >4</th>\n",
       "      <th id=\"T_dfc31_level0_col5\" class=\"col_heading level0 col5\" >5</th>\n",
       "      <th id=\"T_dfc31_level0_col6\" class=\"col_heading level0 col6\" >6</th>\n",
       "      <th id=\"T_dfc31_level0_col7\" class=\"col_heading level0 col7\" >7</th>\n",
       "      <th id=\"T_dfc31_level0_col8\" class=\"col_heading level0 col8\" >8</th>\n",
       "    </tr>\n",
       "  </thead>\n",
       "  <tbody>\n",
       "    <tr>\n",
       "      <th id=\"T_dfc31_level0_row0\" class=\"row_heading level0 row0\" >0</th>\n",
       "      <td id=\"T_dfc31_row0_col0\" class=\"data row0 col0\" >0.002395</td>\n",
       "      <td id=\"T_dfc31_row0_col1\" class=\"data row0 col1\" >0.007204</td>\n",
       "      <td id=\"T_dfc31_row0_col2\" class=\"data row0 col2\" >0.000236</td>\n",
       "      <td id=\"T_dfc31_row0_col3\" class=\"data row0 col3\" >0.002277</td>\n",
       "      <td id=\"T_dfc31_row0_col4\" class=\"data row0 col4\" >0.002334</td>\n",
       "      <td id=\"T_dfc31_row0_col5\" class=\"data row0 col5\" >0.001937</td>\n",
       "      <td id=\"T_dfc31_row0_col6\" class=\"data row0 col6\" >0.002755</td>\n",
       "      <td id=\"T_dfc31_row0_col7\" class=\"data row0 col7\" >0.018630</td>\n",
       "      <td id=\"T_dfc31_row0_col8\" class=\"data row0 col8\" >0.002512</td>\n",
       "    </tr>\n",
       "    <tr>\n",
       "      <th id=\"T_dfc31_level0_row1\" class=\"row_heading level0 row1\" >1</th>\n",
       "      <td id=\"T_dfc31_row1_col0\" class=\"data row1 col0\" >0.001087</td>\n",
       "      <td id=\"T_dfc31_row1_col1\" class=\"data row1 col1\" >0.020477</td>\n",
       "      <td id=\"T_dfc31_row1_col2\" class=\"data row1 col2\" >0.003616</td>\n",
       "      <td id=\"T_dfc31_row1_col3\" class=\"data row1 col3\" >0.000345</td>\n",
       "      <td id=\"T_dfc31_row1_col4\" class=\"data row1 col4\" >0.005813</td>\n",
       "      <td id=\"T_dfc31_row1_col5\" class=\"data row1 col5\" >0.003348</td>\n",
       "      <td id=\"T_dfc31_row1_col6\" class=\"data row1 col6\" >0.012025</td>\n",
       "      <td id=\"T_dfc31_row1_col7\" class=\"data row1 col7\" >0.035100</td>\n",
       "      <td id=\"T_dfc31_row1_col8\" class=\"data row1 col8\" >0.000358</td>\n",
       "    </tr>\n",
       "  </tbody>\n",
       "</table>\n"
      ],
      "text/plain": [
       "<pandas.io.formats.style.Styler at 0x27a9c9b3430>"
      ]
     },
     "execution_count": 260,
     "metadata": {},
     "output_type": "execute_result"
    }
   ],
   "source": [
    "dist_df2 = pd.DataFrame(dist2)\n",
    "dist_df2.style.background_gradient(cmap='YlOrRd')"
   ]
  },
  {
   "cell_type": "code",
   "execution_count": 261,
   "id": "ba2724de",
   "metadata": {},
   "outputs": [],
   "source": [
    "dist2_norm = (dist2-np.min(dist2))/(np.max(dist2)-np.min(dist2))"
   ]
  },
  {
   "cell_type": "code",
   "execution_count": 262,
   "id": "60f98d3f",
   "metadata": {},
   "outputs": [
    {
     "data": {
      "text/html": [
       "<style type=\"text/css\">\n",
       "#T_6ccee_row0_col0, #T_6ccee_row0_col3, #T_6ccee_row0_col8, #T_6ccee_row1_col1, #T_6ccee_row1_col2, #T_6ccee_row1_col4, #T_6ccee_row1_col5, #T_6ccee_row1_col6, #T_6ccee_row1_col7 {\n",
       "  background-color: #800026;\n",
       "  color: #f1f1f1;\n",
       "}\n",
       "#T_6ccee_row0_col1, #T_6ccee_row0_col2, #T_6ccee_row0_col4, #T_6ccee_row0_col5, #T_6ccee_row0_col6, #T_6ccee_row0_col7, #T_6ccee_row1_col0, #T_6ccee_row1_col3, #T_6ccee_row1_col8 {\n",
       "  background-color: #ffffcc;\n",
       "  color: #000000;\n",
       "}\n",
       "</style>\n",
       "<table id=\"T_6ccee\">\n",
       "  <thead>\n",
       "    <tr>\n",
       "      <th class=\"blank level0\" >&nbsp;</th>\n",
       "      <th id=\"T_6ccee_level0_col0\" class=\"col_heading level0 col0\" >0</th>\n",
       "      <th id=\"T_6ccee_level0_col1\" class=\"col_heading level0 col1\" >1</th>\n",
       "      <th id=\"T_6ccee_level0_col2\" class=\"col_heading level0 col2\" >2</th>\n",
       "      <th id=\"T_6ccee_level0_col3\" class=\"col_heading level0 col3\" >3</th>\n",
       "      <th id=\"T_6ccee_level0_col4\" class=\"col_heading level0 col4\" >4</th>\n",
       "      <th id=\"T_6ccee_level0_col5\" class=\"col_heading level0 col5\" >5</th>\n",
       "      <th id=\"T_6ccee_level0_col6\" class=\"col_heading level0 col6\" >6</th>\n",
       "      <th id=\"T_6ccee_level0_col7\" class=\"col_heading level0 col7\" >7</th>\n",
       "      <th id=\"T_6ccee_level0_col8\" class=\"col_heading level0 col8\" >8</th>\n",
       "    </tr>\n",
       "  </thead>\n",
       "  <tbody>\n",
       "    <tr>\n",
       "      <th id=\"T_6ccee_level0_row0\" class=\"row_heading level0 row0\" >0</th>\n",
       "      <td id=\"T_6ccee_row0_col0\" class=\"data row0 col0\" >0.061944</td>\n",
       "      <td id=\"T_6ccee_row0_col1\" class=\"data row0 col1\" >0.199853</td>\n",
       "      <td id=\"T_6ccee_row0_col2\" class=\"data row0 col2\" >0.000000</td>\n",
       "      <td id=\"T_6ccee_row0_col3\" class=\"data row0 col3\" >0.058541</td>\n",
       "      <td id=\"T_6ccee_row0_col4\" class=\"data row0 col4\" >0.060171</td>\n",
       "      <td id=\"T_6ccee_row0_col5\" class=\"data row0 col5\" >0.048794</td>\n",
       "      <td id=\"T_6ccee_row0_col6\" class=\"data row0 col6\" >0.072264</td>\n",
       "      <td id=\"T_6ccee_row0_col7\" class=\"data row0 col7\" >0.527604</td>\n",
       "      <td id=\"T_6ccee_row0_col8\" class=\"data row0 col8\" >0.065293</td>\n",
       "    </tr>\n",
       "    <tr>\n",
       "      <th id=\"T_6ccee_level0_row1\" class=\"row_heading level0 row1\" >1</th>\n",
       "      <td id=\"T_6ccee_row1_col0\" class=\"data row1 col0\" >0.024428</td>\n",
       "      <td id=\"T_6ccee_row1_col1\" class=\"data row1 col1\" >0.580583</td>\n",
       "      <td id=\"T_6ccee_row1_col2\" class=\"data row1 col2\" >0.096956</td>\n",
       "      <td id=\"T_6ccee_row1_col3\" class=\"data row1 col3\" >0.003134</td>\n",
       "      <td id=\"T_6ccee_row1_col4\" class=\"data row1 col4\" >0.159963</td>\n",
       "      <td id=\"T_6ccee_row1_col5\" class=\"data row1 col5\" >0.089272</td>\n",
       "      <td id=\"T_6ccee_row1_col6\" class=\"data row1 col6\" >0.338144</td>\n",
       "      <td id=\"T_6ccee_row1_col7\" class=\"data row1 col7\" >1.000000</td>\n",
       "      <td id=\"T_6ccee_row1_col8\" class=\"data row1 col8\" >0.003519</td>\n",
       "    </tr>\n",
       "  </tbody>\n",
       "</table>\n"
      ],
      "text/plain": [
       "<pandas.io.formats.style.Styler at 0x27a9c9b20e0>"
      ]
     },
     "execution_count": 262,
     "metadata": {},
     "output_type": "execute_result"
    }
   ],
   "source": [
    "dist_df2 = pd.DataFrame(dist2_norm)\n",
    "dist_df2.style.background_gradient(cmap='YlOrRd')"
   ]
  },
  {
   "cell_type": "code",
   "execution_count": null,
   "id": "1ecd89a1",
   "metadata": {},
   "outputs": [],
   "source": []
  }
 ],
 "metadata": {
  "kernelspec": {
   "display_name": "Python 3 (ipykernel)",
   "language": "python",
   "name": "python3"
  },
  "language_info": {
   "codemirror_mode": {
    "name": "ipython",
    "version": 3
   },
   "file_extension": ".py",
   "mimetype": "text/x-python",
   "name": "python",
   "nbconvert_exporter": "python",
   "pygments_lexer": "ipython3",
   "version": "3.10.13"
  }
 },
 "nbformat": 4,
 "nbformat_minor": 5
}
